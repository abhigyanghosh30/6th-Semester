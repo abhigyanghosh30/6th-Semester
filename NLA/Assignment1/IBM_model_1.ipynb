{
 "cells": [
  {
   "cell_type": "code",
   "execution_count": 1,
   "metadata": {},
   "outputs": [],
   "source": [
    "import numpy as np\n",
    "from collections import defaultdict"
   ]
  },
  {
   "cell_type": "code",
   "execution_count": 2,
   "metadata": {},
   "outputs": [],
   "source": [
    "file1 = open('train.en','r')\n",
    "file2 = open('train.hi','r')\n",
    "all_e = file1.read().split('\\n')\n",
    "all_f = file2.read().split('\\n')"
   ]
  },
  {
   "cell_type": "code",
   "execution_count": 3,
   "metadata": {},
   "outputs": [],
   "source": [
    "# find frequency of words\n",
    "fow = defaultdict(lambda:0)\n",
    "for i in range(len(all_e)):\n",
    "    for words_e in all_e[i].split(' '):\n",
    "        fow[words_e]+=1\n",
    "fow = sorted(fow.items(),key=lambda v: v[1], reverse=True)\n"
   ]
  },
  {
   "cell_type": "code",
   "execution_count": 4,
   "metadata": {},
   "outputs": [],
   "source": [
    "\n",
    "\n",
    "def translation_prob():\n",
    "# initialize t(e|f) uniformly    \n",
    "    t = defaultdict(lambda:0.1)\n",
    "    for converge in range(10):\n",
    "        \n",
    "        # initalize\n",
    "        count=defaultdict(int)\n",
    "        total=defaultdict(int)\n",
    "        s_total=defaultdict(int)\n",
    "        for i in range(len(all_f)):\n",
    "            # compute normalization\n",
    "            for words_e in all_e[i].split(' '):\n",
    "                s_total[words_e] = 0\n",
    "                for words_f in all_f[i].split(' '):\n",
    "                    s_total[words_e] += t[(words_e,words_f)]\n",
    "            # collect counts\n",
    "            for words_e in all_e[i].split(' '):\n",
    "                for words_f in all_f[i].split(' '):\n",
    "                    count[(words_e,words_f)] += (t[(words_e,words_f)]/s_total[words_e])\n",
    "                    total[words_f] += (t[(words_e,words_f)]/s_total[words_e])\n",
    "        # esitmate probabilities\n",
    "        for i in range(len(all_f)):\n",
    "            for words_e in all_e[i].split(' '):\n",
    "                for words_f in all_f[i].split(' '):\n",
    "                    t[(words_e,words_f)] = (count[(words_e,words_f)]/total[words_f])\n",
    "    return t"
   ]
  },
  {
   "cell_type": "code",
   "execution_count": null,
   "metadata": {
    "scrolled": false
   },
   "outputs": [],
   "source": [
    "t = translation_prob()\n",
    "defa = t.default_factory()\n",
    "keys = [i for i in t if t[i]!=defa]\n",
    "print(keys)\n"
   ]
  },
  {
   "cell_type": "code",
   "execution_count": null,
   "metadata": {},
   "outputs": [],
   "source": [
    "# for each sentence find out a(i|i',l) = (i-i')/(l-i') where i' is the position of e and i is the position of corresponding f"
   ]
  }
 ],
 "metadata": {
  "kernelspec": {
   "display_name": "Python 3",
   "language": "python",
   "name": "python3"
  },
  "language_info": {
   "codemirror_mode": {
    "name": "ipython",
    "version": 3
   },
   "file_extension": ".py",
   "mimetype": "text/x-python",
   "name": "python",
   "nbconvert_exporter": "python",
   "pygments_lexer": "ipython3",
   "version": "3.7.3"
  }
 },
 "nbformat": 4,
 "nbformat_minor": 4
}
