{
 "cells": [
  {
   "cell_type": "code",
   "execution_count": 7,
   "metadata": {},
   "outputs": [],
   "source": [
    "X_train = open('src-train.txt').read().split('\\n')\n",
    "X_test = open('src-test.txt').read().split('\\n')\n",
    "y_train = open('tgt-train.txt').read().split('\\n')\n",
    "y_test = open('tgt-test.txt').read().split('\\n')"
   ]
  },
  {
   "cell_type": "code",
   "execution_count": 8,
   "metadata": {},
   "outputs": [],
   "source": [
    "from collections import defaultdict\n",
    "\n",
    "trigrams = defaultdict(int)\n",
    "bigrams = defaultdict(int)\n",
    "unigrams = defaultdict(int)\n",
    "\n",
    "for i in range(len(X_train)):\n",
    "    words = X_train[i].split(' ')\n",
    "    words.append('<eos>')\n",
    "    words.insert(0,'<sos>')\n",
    "    tags = y_train[i].split(' ')\n",
    "    a = []\n",
    "    for j in range(1,len(words)-1):\n",
    "        x = words[j]\n",
    "        x_1 = words[j+1]\n",
    "        x_2 = words[j-1]\n",
    "        trigrams[x+\",\"+x_1+\",\"+x_2,tags[j-1]]+=1\n",
    "        bigrams[x+\",\"+x_1,tags[j-1]]+=1\n",
    "        unigrams[x,tags[j-1]]+=1"
   ]
  },
  {
   "cell_type": "code",
   "execution_count": 11,
   "metadata": {},
   "outputs": [],
   "source": [
    "def predict_tag(x,x_1,x_2):\n",
    "    max = 0\n",
    "    max_key = \"undef\"\n",
    "    for key in trigrams:\n",
    "        if key[0] == x+\",\"+x_1+\",\"+x_2 and trigrams[key] > max:\n",
    "            max = trigrams[key]\n",
    "            max_key = key[1]\n",
    "    if max_key == \"undef\":\n",
    "        for key in bigrams:\n",
    "            if key[0] == x+\",\"+x_1 and bigrams[key] > max:\n",
    "                max = bigrams[key]\n",
    "                max_key = key[1]\n",
    "    if max_key == \"undef\":\n",
    "        for key in unigrams:\n",
    "            if key[0] == x and unigrams[key] > max:\n",
    "                max = unigrams[key]\n",
    "                max_key = key[1]\n",
    "    return max_key"
   ]
  },
  {
   "cell_type": "code",
   "execution_count": null,
   "metadata": {},
   "outputs": [],
   "source": [
    "f = open('out.txt','w')\n",
    "for i in range(len(X_test)):\n",
    "    words = X_test[i].split(' ')\n",
    "    words.append('<eos>')\n",
    "    words.insert(0,'<sos>')\n",
    "    a = []\n",
    "    for j in range(1,len(words)-1):\n",
    "        tag = predict_tag(words[j],words[j+1],words[j-1])\n",
    "        f.write(tag)\n",
    "        print(tag)\n",
    "    f.write('\\n')"
   ]
  },
  {
   "cell_type": "code",
   "execution_count": null,
   "metadata": {},
   "outputs": [],
   "source": []
  }
 ],
 "metadata": {
  "kernelspec": {
   "display_name": "Python 3",
   "language": "python",
   "name": "python3"
  },
  "language_info": {
   "codemirror_mode": {
    "name": "ipython",
    "version": 3
   },
   "file_extension": ".py",
   "mimetype": "text/x-python",
   "name": "python",
   "nbconvert_exporter": "python",
   "pygments_lexer": "ipython3",
   "version": "3.8.2"
  }
 },
 "nbformat": 4,
 "nbformat_minor": 4
}
