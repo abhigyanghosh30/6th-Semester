{
 "cells": [
  {
   "cell_type": "code",
   "execution_count": 2,
   "metadata": {},
   "outputs": [],
   "source": [
    "X_train = open('src-train.txt').read().split('\\n')\n",
    "X_test = open('src-test.txt').read().split('\\n')\n",
    "y_train = open('tgt-train.txt').read().split('\\n')\n",
    "y_test = open('tgt-test.txt').read().split('\\n')"
   ]
  },
  {
   "cell_type": "code",
   "execution_count": 3,
   "metadata": {},
   "outputs": [
    {
     "name": "stdout",
     "output_type": "stream",
     "text": [
      "19007\n",
      "82\n"
     ]
    }
   ],
   "source": [
    "from torch import Tensor\n",
    "tokens = set([])\n",
    "for sentence in X_train+X_test:\n",
    "    for word in sentence.split(' '):\n",
    "        tokens.add(word)\n",
    "tokens = list(tokens)\n",
    "num_tokens = len(tokens)\n",
    "print(num_tokens)\n",
    "\n",
    "tags = set([])\n",
    "for sentence in y_train+y_test:\n",
    "    for tag in sentence.split(' '):\n",
    "        tags.add(tag)\n",
    "tags = list(tags)\n",
    "num_tags = len(tags)\n",
    "print(num_tags)    \n",
    "    \n",
    "def get_one_hot(word):\n",
    "    one_hot = torch.zeros(num_tokens)\n",
    "    one_hot[tokens.index(word)] = 1\n",
    "    return one_hot\n",
    "\n",
    "def get_tag(tag):\n",
    "    return tags.index(tag)"
   ]
  },
  {
   "cell_type": "code",
   "execution_count": 4,
   "metadata": {},
   "outputs": [
    {
     "data": {
      "text/plain": [
       "Net(\n",
       "  (fc1): Linear(in_features=19007, out_features=1000, bias=True)\n",
       "  (fc3): Linear(in_features=1000, out_features=82, bias=True)\n",
       ")"
      ]
     },
     "execution_count": 4,
     "metadata": {},
     "output_type": "execute_result"
    }
   ],
   "source": [
    "import torch\n",
    "from torch import nn\n",
    "from torch import optim\n",
    "import torch.nn.functional as F\n",
    "from torchvision import datasets, transforms, models\n",
    "from torch.autograd import Variable\n",
    "import numpy as np\n",
    "\n",
    "class Net(nn.Module):\n",
    "    def __init__(self):\n",
    "        super(Net, self).__init__()\n",
    "        self.fc1 = nn.Linear(num_tokens, 1000)\n",
    "        self.fc3 = nn.Linear(1000,num_tags)\n",
    "    \n",
    "    def forward(self,x):\n",
    "        x = Variable(x.T)\n",
    "        x = self.fc1(x)\n",
    "        x = F.relu(x)\n",
    "        x = self.fc3(x)\n",
    "        return F.softmax(x)\n",
    "        \n",
    "net = Net()\n",
    "net = net.float()\n",
    "device = torch.device(\"cuda\" if torch.cuda.is_available() else \"cpu\")\n",
    "net.to(device)\n"
   ]
  },
  {
   "cell_type": "code",
   "execution_count": 5,
   "metadata": {},
   "outputs": [],
   "source": [
    "import torch.optim as optim\n",
    "\n",
    "criterion = nn.CrossEntropyLoss()\n",
    "optimizer = optim.Adam(net.parameters())\n",
    "\n",
    "# print(criterion(torch.tensor([1,0]),torch.tensor([0.9,0.1])))"
   ]
  },
  {
   "cell_type": "code",
   "execution_count": 6,
   "metadata": {},
   "outputs": [
    {
     "name": "stdout",
     "output_type": "stream",
     "text": [
      "tensor([0.0125, 0.0120, 0.0122, 0.0120, 0.0119, 0.0120, 0.0125, 0.0124, 0.0118,\n",
      "        0.0120, 0.0125, 0.0124, 0.0123, 0.0124, 0.0125, 0.0122, 0.0120, 0.0123,\n",
      "        0.0125, 0.0121, 0.0125, 0.0122, 0.0121, 0.0125, 0.0120, 0.0120, 0.0124,\n",
      "        0.0124, 0.0125, 0.0120, 0.0125, 0.0124, 0.0125, 0.0122, 0.0123, 0.0120,\n",
      "        0.0120, 0.0118, 0.0120, 0.0126, 0.0121, 0.0121, 0.0123, 0.0123, 0.0120,\n",
      "        0.0119, 0.0123, 0.0125, 0.0121, 0.0119, 0.0124, 0.0123, 0.0121, 0.0121,\n",
      "        0.0123, 0.0123, 0.0122, 0.0122, 0.0120, 0.0123, 0.0124, 0.0126, 0.0125,\n",
      "        0.0121, 0.0119, 0.0118, 0.0124, 0.0120, 0.0120, 0.0122, 0.0119, 0.0123,\n",
      "        0.0119, 0.0126, 0.0120, 0.0125, 0.0122, 0.0122, 0.0121, 0.0120, 0.0120,\n",
      "        0.0119], grad_fn=<SoftmaxBackward>)\n",
      "0\n"
     ]
    },
    {
     "name": "stderr",
     "output_type": "stream",
     "text": [
      "<ipython-input-4-cd68c4a8aefb>:19: UserWarning: Implicit dimension choice for softmax has been deprecated. Change the call to include dim=X as an argument.\n",
      "  return F.softmax(x)\n"
     ]
    },
    {
     "ename": "NameError",
     "evalue": "name 'np' is not defined",
     "output_type": "error",
     "traceback": [
      "\u001b[0;31m---------------------------------------------------------------------------\u001b[0m",
      "\u001b[0;31mNameError\u001b[0m                                 Traceback (most recent call last)",
      "\u001b[0;32m<ipython-input-6-0b1851e3c0ec>\u001b[0m in \u001b[0;36m<module>\u001b[0;34m\u001b[0m\n\u001b[1;32m     16\u001b[0m             \u001b[0moht\u001b[0m \u001b[0;34m=\u001b[0m \u001b[0mget_tag\u001b[0m\u001b[0;34m(\u001b[0m\u001b[0mtags\u001b[0m\u001b[0;34m[\u001b[0m\u001b[0mj\u001b[0m\u001b[0;34m]\u001b[0m\u001b[0;34m)\u001b[0m\u001b[0;34m\u001b[0m\u001b[0;34m\u001b[0m\u001b[0m\n\u001b[1;32m     17\u001b[0m             \u001b[0mprint\u001b[0m\u001b[0;34m(\u001b[0m\u001b[0moht\u001b[0m\u001b[0;34m)\u001b[0m\u001b[0;34m\u001b[0m\u001b[0;34m\u001b[0m\u001b[0m\n\u001b[0;32m---> 18\u001b[0;31m             \u001b[0mout\u001b[0m \u001b[0;34m=\u001b[0m \u001b[0mnp\u001b[0m\u001b[0;34m.\u001b[0m\u001b[0mvstack\u001b[0m\u001b[0;34m(\u001b[0m\u001b[0;34m(\u001b[0m\u001b[0mout\u001b[0m\u001b[0;34m,\u001b[0m \u001b[0moutputs\u001b[0m\u001b[0;34m)\u001b[0m\u001b[0;34m)\u001b[0m\u001b[0;34m\u001b[0m\u001b[0;34m\u001b[0m\u001b[0m\n\u001b[0m\u001b[1;32m     19\u001b[0m             \u001b[0mres\u001b[0m \u001b[0;34m=\u001b[0m \u001b[0mnp\u001b[0m\u001b[0;34m.\u001b[0m\u001b[0mvstack\u001b[0m\u001b[0;34m(\u001b[0m\u001b[0;34m(\u001b[0m\u001b[0mres\u001b[0m\u001b[0;34m,\u001b[0m\u001b[0moht\u001b[0m\u001b[0;34m)\u001b[0m\u001b[0;34m)\u001b[0m\u001b[0;34m\u001b[0m\u001b[0;34m\u001b[0m\u001b[0m\n\u001b[1;32m     20\u001b[0m \u001b[0;34m\u001b[0m\u001b[0m\n",
      "\u001b[0;31mNameError\u001b[0m: name 'np' is not defined"
     ]
    }
   ],
   "source": [
    "for epoch in range(2):\n",
    "    running_loss = 0.0\n",
    "    for i in range(len(X_train)):\n",
    "        optimizer.zero_grad()\n",
    "        words = X_train[i].split(' ')\n",
    "        tags = y_train[i].split(' ')\n",
    "        \n",
    "        out = []\n",
    "        res = []\n",
    "        \n",
    "        for j in range(len(words)):\n",
    "            ohw = get_one_hot(words[j])\n",
    "            ohw.to(device)\n",
    "            outputs = net(ohw)\n",
    "            print(outputs)\n",
    "            oht = get_tag(tags[j])\n",
    "            print(oht)\n",
    "            out = np.vstack((out, outputs))\n",
    "            res = np.vstack((res,oht))\n",
    "            \n",
    "        loss = criterion(out,res)\n",
    "        loss.backward()\n",
    "        optimizer.step()\n",
    "        running_loss += loss.item()\n",
    "\n",
    "        if i % 2000 == 1999:    # print every 2000 mini-batches\n",
    "            print('[%d, %5d] loss: %.3f' % (epoch + 1, i + 1, running_loss / 2000))\n",
    "            running_loss = 0.0\n",
    "\n",
    "print('Finished Training')\n",
    "\n"
   ]
  },
  {
   "cell_type": "code",
   "execution_count": null,
   "metadata": {},
   "outputs": [],
   "source": []
  },
  {
   "cell_type": "code",
   "execution_count": null,
   "metadata": {},
   "outputs": [],
   "source": []
  }
 ],
 "metadata": {
  "kernelspec": {
   "display_name": "Python 3",
   "language": "python",
   "name": "python3"
  },
  "language_info": {
   "codemirror_mode": {
    "name": "ipython",
    "version": 3
   },
   "file_extension": ".py",
   "mimetype": "text/x-python",
   "name": "python",
   "nbconvert_exporter": "python",
   "pygments_lexer": "ipython3",
   "version": "3.8.2"
  }
 },
 "nbformat": 4,
 "nbformat_minor": 4
}
